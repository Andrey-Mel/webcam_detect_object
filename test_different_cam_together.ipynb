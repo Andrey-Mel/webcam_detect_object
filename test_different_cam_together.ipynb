{
 "cells": [
  {
   "cell_type": "code",
   "execution_count": 20,
   "id": "19eec76c",
   "metadata": {},
   "outputs": [
    {
     "name": "stdout",
     "output_type": "stream",
     "text": [
      "Collecting pynput\n",
      "  Using cached pynput-1.8.1-py2.py3-none-any.whl.metadata (32 kB)\n",
      "Requirement already satisfied: six in c:\\users\\pc\\anaconda3\\envs\\env_detect_drone\\lib\\site-packages (from pynput) (1.17.0)\n",
      "Using cached pynput-1.8.1-py2.py3-none-any.whl (91 kB)\n",
      "Installing collected packages: pynput\n",
      "Successfully installed pynput-1.8.1\n"
     ]
    }
   ],
   "source": [
    "! pip install pynput"
   ]
  },
  {
   "cell_type": "code",
   "execution_count": 1,
   "id": "f8d6f17d",
   "metadata": {},
   "outputs": [],
   "source": [
    "import numpy as np\n",
    "import cv2\n",
    "import threading\n",
    "import queue\n",
    "import time\n",
    "from pynput import keyboard\n",
    "\n"
   ]
  },
  {
   "cell_type": "markdown",
   "id": "74b55642",
   "metadata": {},
   "source": [
    "тест отдельно по камерам"
   ]
  },
  {
   "cell_type": "code",
   "execution_count": 2,
   "id": "ac1513e2",
   "metadata": {},
   "outputs": [
    {
     "name": "stdout",
     "output_type": "stream",
     "text": [
      "Was pressed key quit\n"
     ]
    }
   ],
   "source": [
    "idx_cam = 0\n",
    "cap = cv2.VideoCapture(idx_cam)\n",
    "if not cap.isOpened():\n",
    "    print(f\"Error open camera {idx_cam}\")\n",
    "    # return\n",
    "\n",
    "fps = int(cap.get(cv2.CAP_PROP_FPS))\n",
    "height = int(cap.get(cv2.CAP_PROP_FRAME_HEIGHT))\n",
    "width = int(cap.get(cv2.CAP_PROP_FRAME_WIDTH))\n",
    "font = cv2.FONT_HERSHEY_SCRIPT_SIMPLEX\n",
    "\n",
    "# fourcc = cv2.VideoWriter_fourcc(*'XVID')  #MP4V   пропуск кадров\n",
    "# output_video = rf'{path_save_video}\\video_cam_{idx_cam}.avi'  # пропуск кадров\n",
    "# writer = cv2.VideoWriter(output_video, fourcc, fps, (width, height))  # пропуск кадров\n",
    "\n",
    "while True:\n",
    "    ret, frame = cap.read()\n",
    "    if not ret:\n",
    "        print(f'Lost connetct with camera id: {idx_cam}')\n",
    "        break\n",
    "    text = f'{str(fps)} : {str(height)} : {str(width)} '\n",
    "    cv2.putText(frame, text, (10, 30), font, 1.0, (255, 0, 0), 1)\n",
    "\n",
    "    # writer.write(frame)  # пропуск кадров\n",
    "\n",
    "    # clearing the queue (чтоб не тормозила камера) so that the camera doesn't slow down\n",
    "    \n",
    "\n",
    "    if cv2.waitKey(1) & 0xFF == ord('q'):\n",
    "        print(\"Was pressed key quit\")\n",
    "        break\n",
    "\n",
    "    cv2.imshow(f'camera_{str(idx_cam)}', frame)\n",
    "\n",
    "cap.release()\n",
    "cv2.destroyAllWindows()"
   ]
  },
  {
   "cell_type": "markdown",
   "id": "46d8eaea",
   "metadata": {},
   "source": [
    "define function for visualize from camera"
   ]
  },
  {
   "cell_type": "code",
   "execution_count": 2,
   "id": "fab0bd94",
   "metadata": {},
   "outputs": [],
   "source": [
    "idx_cam_1 = 0\n",
    "idx_cam_2 = 1\n",
    "\n",
    "frame_queue1 = queue.Queue(maxsize=1)\n",
    "frame_queue2 = queue.Queue(maxsize=1)\n",
    "\n",
    "writers={}\n",
    "\n",
    "def capture_camera(idx_cam: int, frame_queue):\n",
    "    cap = cv2.VideoCapture(idx_cam)\n",
    "    if not cap.isOpened():\n",
    "        print(f\"Error open camera {idx_cam}\")\n",
    "        return\n",
    "\n",
    "    fps = int(cap.get(cv2.CAP_PROP_FPS))\n",
    "    height = int(cap.get(cv2.CAP_PROP_FRAME_HEIGHT))\n",
    "    width = int(cap.get(cv2.CAP_PROP_FRAME_WIDTH))\n",
    "    font = cv2.FONT_HERSHEY_SCRIPT_SIMPLEX\n",
    "\n",
    "    # fourcc = cv2.VideoWriter_fourcc(*'XVID')  #MP4V   пропуск кадров\n",
    "    # output_video = rf'{path_save_video}\\video_cam_{idx_cam}.avi'  # пропуск кадров\n",
    "    # writer = cv2.VideoWriter(output_video, fourcc, fps, (width, height))  # пропуск кадров\n",
    "    \n",
    "    while True:\n",
    "        ret, frame = cap.read()\n",
    "        if not ret:\n",
    "            print(f'Lost connetct with camera id: {idx_cam}')\n",
    "            break\n",
    "        text = f'{str(fps)} : {str(height)} : {str(width)} '\n",
    "        cv2.putText(frame, text, (10, 30), font, 1.0, (255, 0, 0), 1)\n",
    "\n",
    "        # writer.write(frame)  # пропуск кадров\n",
    "\n",
    "        # clearing the queue (чтоб не тормозила камера) so that the camera doesn't slow down\n",
    "        if not frame_queue.empty():\n",
    "            frame_queue.get()\n",
    "        \n",
    "        frame_queue.put((idx_cam, frame))\n",
    "\n",
    "        if cv2.waitKey(1) & 0xFF == ord('q'):\n",
    "            print(\"Was pressed key quit\")\n",
    "            break\n",
    "\n",
    "        # cv2.imshow(f'camera_{str(idx_cam)}', frame)\n",
    "    \n",
    "    cap.release()\n",
    "    # writer.release()   # пропуск кадров\n",
    "    # cv2.destroyAllWindows()\n"
   ]
  },
  {
   "cell_type": "markdown",
   "id": "3b603271",
   "metadata": {},
   "source": [
    "### Example with threading"
   ]
  },
  {
   "cell_type": "code",
   "execution_count": 3,
   "id": "b67a0197",
   "metadata": {},
   "outputs": [
    {
     "name": "stdout",
     "output_type": "stream",
     "text": [
      "Record start: record_cam1\\camera_0_20250724_143334.mp4\n",
      "Record avi start: record_cam2\\camera_1_20250724_143334.avi\n"
     ]
    }
   ],
   "source": [
    "# start threading\n",
    "idx_cam_1 = 0\n",
    "idx_cam_2 = 1\n",
    "\n",
    "frame_queue1 = queue.Queue(maxsize=1)\n",
    "frame_queue2 = queue.Queue(maxsize=1)\n",
    "\n",
    "writers={}\n",
    "\n",
    "def capture_camera(idx_cam: int, frame_queue):\n",
    "    cap = cv2.VideoCapture(idx_cam)\n",
    "    if not cap.isOpened():\n",
    "        print(f\"Error open camera {idx_cam}\")\n",
    "        return\n",
    "\n",
    "    fps = int(cap.get(cv2.CAP_PROP_FPS))\n",
    "    height = int(cap.get(cv2.CAP_PROP_FRAME_HEIGHT))\n",
    "    width = int(cap.get(cv2.CAP_PROP_FRAME_WIDTH))\n",
    "    font = cv2.FONT_HERSHEY_SCRIPT_SIMPLEX\n",
    "\n",
    "    # fourcc = cv2.VideoWriter_fourcc(*'XVID')  #MP4V   пропуск кадров\n",
    "    # output_video = rf'{path_save_video}\\video_cam_{idx_cam}.avi'  # пропуск кадров\n",
    "    # writer = cv2.VideoWriter(output_video, fourcc, fps, (width, height))  # пропуск кадров\n",
    "    \n",
    "    while True:\n",
    "        ret, frame = cap.read()\n",
    "        if not ret:\n",
    "            print(f'Lost connetct with camera id: {idx_cam}')\n",
    "            break\n",
    "        text = f'{str(fps)} : {str(height)} : {str(width)} '\n",
    "        cv2.putText(frame, text, (10, 30), font, 1.0, (255, 0, 0), 1)\n",
    "\n",
    "        # writer.write(frame)  # пропуск кадров\n",
    "\n",
    "        # clearing the queue (чтоб не тормозила камера) so that the camera doesn't slow down\n",
    "        if not frame_queue.empty():\n",
    "            frame_queue.get()\n",
    "        \n",
    "        frame_queue.put((idx_cam, frame))\n",
    "\n",
    "        if cv2.waitKey(1) & 0xFF == ord('q'):\n",
    "            print(\"Was pressed key quit\")\n",
    "            break\n",
    "\n",
    "        # cv2.imshow(f'camera_{str(idx_cam)}', frame)\n",
    "    \n",
    "    cap.release()\n",
    "    # writer.release()   # пропуск кадров\n",
    "    # cv2.destroyAllWindows()\n",
    "\n",
    "\n",
    "\n",
    "def main():\n",
    "\n",
    "    path_save1 = r'record_cam1'\n",
    "    path_save2 = r'record_cam2'\n",
    "\n",
    "    t1 = threading.Thread(target=capture_camera, args=(idx_cam_1, frame_queue1), daemon=True)\n",
    "    t2 = threading.Thread(target=capture_camera, args=(idx_cam_2, frame_queue2), daemon=True)\n",
    "\n",
    "    t1.start()\n",
    "    t2.start()\n",
    "\n",
    "    # Main loop visualize\n",
    "    try:\n",
    "        while True:\n",
    "            current_time = time.strftime(\"%Y%m%d_%H%M%S\")\n",
    "            \n",
    "\n",
    "            if not frame_queue1.empty():\n",
    "                idx, frame = frame_queue1.get()\n",
    "                cv2.imshow(f'Camera_{idx}', frame)\n",
    "\n",
    "                #Initialize VideoWriter \n",
    "                if idx not in writers:\n",
    "                    filename = fr'{path_save1}\\camera_{idx}_{current_time}.mp4'\n",
    "                    fourcc = cv2.VideoWriter_fourcc(*'H264')  # XVID\n",
    "                    writers[idx] = cv2.VideoWriter(filename, fourcc, 30, (frame.shape[1], frame.shape[0]))\n",
    "                    print(f'Record start: {filename}')\n",
    "                \n",
    "                writers[idx].write(frame)\n",
    "            \n",
    "            if not frame_queue2.empty():\n",
    "                idx, frame = frame_queue2.get()\n",
    "                cv2.imshow(f'Camera_{idx}', frame)\n",
    "\n",
    "                #init vwr\n",
    "                if idx not in writers:\n",
    "                    filename = fr'{path_save2}\\camera_{idx}_{current_time}.avi'\n",
    "                    fourcc = cv2.VideoWriter_fourcc(*'XVID')\n",
    "                    writers[idx] = cv2.VideoWriter(filename, fourcc, 30, (frame.shape[1], frame.shape[0]))\n",
    "                    print(f'Record avi start: {filename}')\n",
    "                \n",
    "                writers[idx].write(frame)\n",
    "\n",
    "            \n",
    "            if cv2.waitKey(1) & 0xFF == ord('q'):\n",
    "                break\n",
    "\n",
    "            time.sleep(0.01) \n",
    "    except KeyboardInterrupt:\n",
    "        pass\n",
    "    for writer in writers.values():\n",
    "        writer.release()\n",
    "    cv2.destroyAllWindows()\n",
    "\n",
    "if __name__ == '__main__':\n",
    "    main()\n"
   ]
  },
  {
   "cell_type": "markdown",
   "id": "886f8f75",
   "metadata": {},
   "source": [
    "Если камеры подключены по сети (IP-камеры), то cv2.VideoCapture(idx_cam) может работать нестабильно — лучше использовать cv2.CAP_FFMPEG или cv2.CAP_DSHOW в зависимости от платформы."
   ]
  },
  {
   "cell_type": "markdown",
   "id": "08a4eead",
   "metadata": {},
   "source": [
    "### use multiprocessing"
   ]
  },
  {
   "cell_type": "code",
   "execution_count": 4,
   "id": "9d87ab96",
   "metadata": {},
   "outputs": [],
   "source": [
    "import cv2\n",
    "import multiprocessing as mp\n",
    "import time\n",
    "\n"
   ]
  },
  {
   "cell_type": "code",
   "execution_count": 2,
   "id": "1f31941a",
   "metadata": {},
   "outputs": [],
   "source": [
    "def capture_camera_process(idx_cam: int, queue: mp.Queue):\n",
    "    \"\"\"function to work in diferent process - capture frame and sent in queue\"\"\"\n",
    "    cap = cv2.VideoCapture(idx_cam)\n",
    "    if not cap.isOpened():\n",
    "        print(f'Cam {idx_cam} not opened')\n",
    "        return\n",
    "    fps = int(cap.get(cv2.CAP_PROP_FPS))\n",
    "    width = int(cap.get(cv2.CAP_PROP_FRAME_WIDTH))\n",
    "    height = int(cap.get(cv2.CAP_PROP_FRAME_HEIGHT))\n",
    "    print(f\"[Процесс {idx_cam}] Подключено: {width}x{height} @ {fps}fps\")\n",
    "\n",
    "\n",
    "    while True:\n",
    "        ret, frame = cap.read()\n",
    "        if not ret:\n",
    "            print(f'Not get frame')\n",
    "            break\n",
    "        # Добавляем текст на кадре (можно и в главном процессе, но так легче)\n",
    "        text = f'Cam {idx_cam} | {width}x{height} @ {fps}fps'\n",
    "        cv2.putText(frame, text, (10, 30), cv2.FONT_HERSHEY_SIMPLEX, 0.6, (255, 0, 0), 2)\n",
    "\n",
    "        # if queue is full\n",
    "        if not queue.empty():\n",
    "            queue.get() # cleareing queue\n",
    "        queue.put((idx_cam, frame))\n",
    "\n",
    "        \n",
    "        time.sleep(0.01)\n",
    "    cap.release()\n",
    "    queue.put((idx_cam, None)) # Signal to end\n",
    "    print(f'Process cam {idx_cam} END.')"
   ]
  },
  {
   "cell_type": "code",
   "execution_count": 3,
   "id": "b8a813cf",
   "metadata": {},
   "outputs": [
    {
     "name": "stdout",
     "output_type": "stream",
     "text": [
      "Start processes to capture cadrs. Press \"q\" to exit\n",
      "Stopped USER\n",
      "Resourses to free\n"
     ]
    }
   ],
   "source": [
    "mp.set_start_method('spawn', force=True)  # Критично для Windows/macOS\n",
    "idx_cam_1 = 0\n",
    "idx_cam_2 = 1\n",
    "\n",
    "# Создаём очереди для передачи кадров из процессов\n",
    "queue1 = mp.Queue(maxsize=1)\n",
    "queue2 = mp.Queue(maxsize=1)\n",
    "\n",
    "# Запускаем процессы\n",
    "proc1 = mp.Process(target=capture_camera_process, args=(idx_cam_1, queue1), daemon=True)\n",
    "proc2 = mp.Process(target=capture_camera_process, args=(idx_cam_2, queue2), daemon=True)\n",
    "\n",
    "proc1.start()\n",
    "proc2.start()\n",
    "\n",
    "print('Start processes to capture cadrs. Press \"q\" to exit')\n",
    "try:\n",
    "    while True:\n",
    "        frame1 = None\n",
    "        frame2 = None\n",
    "\n",
    "        if not queue1.empty():\n",
    "            cam_id, frame1 = queue1.get()\n",
    "            \n",
    "            if frame1 is None:\n",
    "                print('Camera 1 is stop')\n",
    "                break\n",
    "        \n",
    "        if not queue2.empty():\n",
    "            cam_id, frame2 = queue2.get()\n",
    "            if frame2 is None:\n",
    "                print('Camera 2 is stop')\n",
    "                break\n",
    "\n",
    "        if frame1 is not None:\n",
    "            cv2.imshow(f'Camera_{cam_id}', frame1)\n",
    "        if frame2 is not None:\n",
    "            cv2.imshow(f'Camera {cam_id}', frame2)\n",
    "\n",
    "        if cv2.waitKey(1) & 0xFF == ord('q'):\n",
    "            print('Exit by command user')\n",
    "            break\n",
    "        time.sleep(0.01)\n",
    "except KeyboardInterrupt:\n",
    "    print('Stopped USER')\n",
    "\n",
    "finally:\n",
    "    # stoped processes\n",
    "    cv2.destroyAllWindows()\n",
    "    proc1.terminate()\n",
    "    proc2.terminate()\n",
    "    proc1.join(timeout=1)\n",
    "    proc2.join(timeout=1)\n",
    "    cv2.destroyAllWindows()\n",
    "    print('Resourses to free')\n"
   ]
  },
  {
   "cell_type": "code",
   "execution_count": 4,
   "id": "f645463f",
   "metadata": {},
   "outputs": [
    {
     "name": "stdout",
     "output_type": "stream",
     "text": [
      "Hello\n"
     ]
    }
   ],
   "source": [
    "print('Hello')"
   ]
  },
  {
   "cell_type": "code",
   "execution_count": null,
   "id": "ffdf37e0",
   "metadata": {},
   "outputs": [],
   "source": []
  },
  {
   "cell_type": "markdown",
   "id": "85d95934",
   "metadata": {},
   "source": [
    "Пример изменения источника камеры по нажатию клавиши, НЕ ТАК КАК НАДО работает, просто пример"
   ]
  },
  {
   "cell_type": "code",
   "execution_count": null,
   "id": "77924880",
   "metadata": {},
   "outputs": [
    {
     "name": "stdout",
     "output_type": "stream",
     "text": [
      "Press space for change camera. Ctrl+C for exit.\n",
      "Release camera 1\n",
      "Press quit\n"
     ]
    }
   ],
   "source": [
    "\n",
    "cam = \"camera_1\"\n",
    "\n",
    "def on_press(key):\n",
    "    global cam\n",
    "    try:\n",
    "        if key.char == ' ': #\n",
    "            if cam == 'camera_1':\n",
    "                cam == 'camera_2'\n",
    "                get_video(idx_cam_2)\n",
    "            else:\n",
    "                get_video(idx_cam_1)\n",
    "    except Exception as e:\n",
    "        print(f'Error: {e}')\n",
    "\n",
    "listener = keyboard.Listener(on_press=on_press)\n",
    "listener.start()\n",
    "\n",
    "print(f'Press space for change camera. Ctrl+C for exit.')\n",
    "\n",
    "try:\n",
    "    while True:\n",
    "        if cam == 'camera_1':\n",
    "            print(f'Release camera 1')\n",
    "            get_video(idx_cam_1)\n",
    "        else:\n",
    "            print(f'Release camera 2')\n",
    "            get_video(idx_cam_2)\n",
    "except KeyboardInterrupt:\n",
    "    listener.stop()\n",
    "    print(\"\\nExit\")"
   ]
  },
  {
   "cell_type": "markdown",
   "id": "f11ea352",
   "metadata": {},
   "source": [
    "Если камеры подключены по сети (IP-камеры), то cv2.VideoCapture(idx_cam) может работать нестабильно — лучше использовать cv2.CAP_FFMPEG или cv2.CAP_DSHOW в зависимости от платформы."
   ]
  }
 ],
 "metadata": {
  "kernelspec": {
   "display_name": "env_detect_drone",
   "language": "python",
   "name": "python3"
  },
  "language_info": {
   "codemirror_mode": {
    "name": "ipython",
    "version": 3
   },
   "file_extension": ".py",
   "mimetype": "text/x-python",
   "name": "python",
   "nbconvert_exporter": "python",
   "pygments_lexer": "ipython3",
   "version": "3.10.18"
  }
 },
 "nbformat": 4,
 "nbformat_minor": 5
}
