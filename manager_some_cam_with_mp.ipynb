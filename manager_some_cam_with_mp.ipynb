{
 "cells": [
  {
   "cell_type": "code",
   "execution_count": 1,
   "id": "62452075",
   "metadata": {},
   "outputs": [],
   "source": [
    "import cv2\n",
    "import multiprocessing as mp\n",
    "import time"
   ]
  },
  {
   "cell_type": "code",
   "execution_count": null,
   "id": "36826f33",
   "metadata": {},
   "outputs": [],
   "source": [
    "def check_available_cameras(max_cam=8):\n",
    "    '''\n",
    "        Check available idx cameras\n",
    "    '''\n",
    "    available = []\n",
    "    for i in range(max_cam):\n",
    "        cap = cv2.VideoCapture(i)\n",
    "        if cap.isOpened():\n",
    "            ret, frame = cap.read()\n",
    "            if ret:\n",
    "                available.append(i)\n",
    "                print(f'Camera {i} is available, shape: {frame.shape[1]}x{frame.shape[0]}')\n",
    "            else:\n",
    "                print(f'Camera is opened but not get frame!!!')\n",
    "            cap.release()\n",
    "        else:\n",
    "            print(f'Camera {i} not available(...')\n",
    "    \n",
    "    return available\n",
    "\n",
    "\n",
    "def camera_capture(idx_cam: int, queue: mp.Queue, stop_event: mp.Event): # type: ignore\n",
    "    \"\"\"\n",
    "        Process of capturing video from a singles camera,\n",
    "        processed while not will be set flag 'stop_event'\n",
    "    \"\"\"\n",
    "\n",
    "    cap = cv2.VideoCapture(idx_cam)\n",
    "    if not cap.isOpened():\n",
    "        print(f'Error not open camera {idx_cam}')\n",
    "        return\n",
    "    \n",
    "    width = int(cap.get(cv2.CAP_PROP_FRAME_WIDTH))\n",
    "    height = int(cap.get(cv2.CAP_PROP_FRAME_HEIGHT))\n",
    "    fps = int(cap.get(cv2.CAP_PROP_FPS))\n",
    "    if fps == 0: fps = 30\n",
    "\n",
    "    print(f'[Cam_{idx_cam}] Play: {width}x{height}@{fps} FPS')\n",
    "\n",
    "    while True:\n",
    "        ret, frame = cap.read()\n",
    "        if not ret:\n",
    "            print(f'Camera {idx_cam} error read frame!')\n",
    "            break\n",
    "        # added text in frame\n",
    "        text = f'Cam {idx_cam} | {width}x{height}'\n",
    "        cv2.putText(frame, text, (10, 30), cv2.FONT_HERSHEY_SIMPLEX, 0.6, (0, 255, 0))\n",
    "\n",
    "        # Sent frame if queue not full\n",
    "        if queue.empty():\n",
    "            queue.put(frame)\n",
    "        else:\n",
    "            queue.get() # clearing queue if not it empty\n",
    "            queue.put(frame)\n",
    "\n",
    "        time.sleep(1 / (fps * 2)) # delay for economy cpu\n",
    "    cap.release()\n",
    "    print(f'Cam {idx_cam} process end!')\n",
    "\n"
   ]
  }
 ],
 "metadata": {
  "kernelspec": {
   "display_name": "env_detect_drone",
   "language": "python",
   "name": "python3"
  },
  "language_info": {
   "codemirror_mode": {
    "name": "ipython",
    "version": 3
   },
   "file_extension": ".py",
   "mimetype": "text/x-python",
   "name": "python",
   "nbconvert_exporter": "python",
   "pygments_lexer": "ipython3",
   "version": "3.10.18"
  }
 },
 "nbformat": 4,
 "nbformat_minor": 5
}
