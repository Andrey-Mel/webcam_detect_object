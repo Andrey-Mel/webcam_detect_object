{
 "cells": [
  {
   "cell_type": "markdown",
   "id": "ac853a42",
   "metadata": {},
   "source": [
    "Предподготовка заключается в том чтоб отфильтровать некотрые изображения которые не подходят для детектора объектов в небе, большие объекты тоже убрать. У меня несколько наборов данных с дронами и птицами как вместе так и отдельно, и из всего этого я хочу собрать один датасет для детектора объектов в небе."
   ]
  },
  {
   "cell_type": "code",
   "execution_count": 1,
   "id": "729c5293",
   "metadata": {},
   "outputs": [],
   "source": [
    "import os\n",
    "import shutil\n",
    "from pathlib import Path"
   ]
  },
  {
   "cell_type": "markdown",
   "id": "3f34e9fe",
   "metadata": {},
   "source": [
    "define the necessary funtions for parsing data"
   ]
  },
  {
   "cell_type": "code",
   "execution_count": 2,
   "id": "e50f1cde",
   "metadata": {},
   "outputs": [],
   "source": [
    "def create_dir(path: str)->None:\n",
    "    \n",
    "    if not os.path.isdir(path):\n",
    "        try:\n",
    "            os.mkdir(path)\n",
    "        except FileNotFoundError as fe:\n",
    "            print(f'Directoty {path} not found: {fe}')\n",
    "\n",
    "\n",
    "        "
   ]
  },
  {
   "cell_type": "code",
   "execution_count": 9,
   "id": "d72713ec",
   "metadata": {},
   "outputs": [],
   "source": [
    "pathset_1 = r'C:\\TASK_DETECT_DRONE\\DB_DETECT_DRONE\\SOURCE_AR\\Drone Dataset Amateur Unmanned Air Vehicle Detection\\Database1'\n",
    "path2copy = r'C:\\TASK_DETECT_DRONE\\DB_DETECT_DRONE\\collect_dataset'\n",
    "\n",
    "\n",
    "name = 'video9228.txt'"
   ]
  },
  {
   "cell_type": "code",
   "execution_count": 10,
   "id": "dad21afe",
   "metadata": {},
   "outputs": [
    {
     "name": "stdout",
     "output_type": "stream",
     "text": [
      "C:\\TASK_DETECT_DRONE\\DB_DETECT_DRONE\\SOURCE_AR\\Drone Dataset Amateur Unmanned Air Vehicle Detection\\Database1\\video9228.txt\n"
     ]
    },
    {
     "data": {
      "text/plain": [
       "0"
      ]
     },
     "execution_count": 10,
     "metadata": {},
     "output_type": "execute_result"
    }
   ],
   "source": [
    "testfile = os.path.join(pathset_1, name)\n",
    "print(testfile)\n",
    "os.path.getsize(testfile)"
   ]
  },
  {
   "cell_type": "code",
   "execution_count": null,
   "id": "7c45f2ca",
   "metadata": {},
   "outputs": [],
   "source": []
  }
 ],
 "metadata": {
  "kernelspec": {
   "display_name": "env_detect_drone",
   "language": "python",
   "name": "python3"
  },
  "language_info": {
   "codemirror_mode": {
    "name": "ipython",
    "version": 3
   },
   "file_extension": ".py",
   "mimetype": "text/x-python",
   "name": "python",
   "nbconvert_exporter": "python",
   "pygments_lexer": "ipython3",
   "version": "3.10.18"
  }
 },
 "nbformat": 4,
 "nbformat_minor": 5
}
